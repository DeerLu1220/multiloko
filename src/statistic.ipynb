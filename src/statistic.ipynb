{
 "cells": [
  {
   "cell_type": "code",
   "execution_count": 7,
   "id": "5e9ec0c1",
   "metadata": {},
   "outputs": [],
   "source": [
    "import json\n",
    "import csv\n",
    "import os\n",
    "\n",
    "DATA_DIR = '../benchmark_data'\n",
    "LANGUAGE = 'italian'\n",
    "# Read the JSON data line by line\n",
    "file = os.path.join(DATA_DIR, LANGUAGE, 'dev.jsonl')\n",
    "with open(file, 'r', encoding='utf-8') as f:\n",
    "    data = [json.loads(line) for line in f if line.strip()]\n",
    "\n",
    "# Initialize a dictionary to count output_type occurrences\n",
    "output_type_count = {}\n",
    "\n",
    "# Prepare data for CSV\n",
    "csv_data = []\n",
    "\n",
    "for item in data:\n",
    "    output_type = item.get(\"output_type\")\n",
    "    # Count the occurrences of each output_type\n",
    "    if output_type in output_type_count:\n",
    "        output_type_count[output_type] += 1\n",
    "    else:\n",
    "        output_type_count[output_type] = 1\n",
    "    \n",
    "    # Extract required fields for CSV\n",
    "    csv_data.append({\n",
    "        \"id\": item.get(\"id\"),\n",
    "        \"question\": item.get(\"question\"),\n",
    "        \"targets\": item.get(\"targets\"),\n",
    "        \"output_type\": output_type\n",
    "    })\n",
    "\n",
    "# Save the output_type statistics to a JSON file\n",
    "statistics_file_path = os.path.join(DATA_DIR, LANGUAGE, 'output_type_statistics.json')\n",
    "if not os.path.exists(os.path.dirname(statistics_file_path)):\n",
    "    os.makedirs(os.path.dirname(statistics_file_path))\n",
    "with open(statistics_file_path, 'w', encoding='utf-8') as stats_file:\n",
    "    json.dump(output_type_count, stats_file, ensure_ascii=False, indent=4)\n",
    "\n",
    "# Save the extracted data to a CSV file\n",
    "csv_file_path = os.path.join(DATA_DIR, LANGUAGE, 'extracted_data.csv')\n",
    "if not os.path.exists(os.path.dirname(csv_file_path)):\n",
    "    os.makedirs(os.path.dirname(csv_file_path))\n",
    "with open(csv_file_path, 'w', encoding='utf-8', newline='') as csv_file:\n",
    "    writer = csv.DictWriter(csv_file, fieldnames=[\"id\", \"question\", \"targets\", \"output_type\"])\n",
    "    writer.writeheader()\n",
    "    writer.writerows(csv_data)"
   ]
  }
 ],
 "metadata": {
  "kernelspec": {
   "display_name": "semeval",
   "language": "python",
   "name": "python3"
  },
  "language_info": {
   "codemirror_mode": {
    "name": "ipython",
    "version": 3
   },
   "file_extension": ".py",
   "mimetype": "text/x-python",
   "name": "python",
   "nbconvert_exporter": "python",
   "pygments_lexer": "ipython3",
   "version": "3.11.11"
  }
 },
 "nbformat": 4,
 "nbformat_minor": 5
}
